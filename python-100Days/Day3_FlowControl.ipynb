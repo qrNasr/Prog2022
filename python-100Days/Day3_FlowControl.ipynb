{
 "cells": [
  {
   "cell_type": "markdown",
   "metadata": {},
   "source": [
    "# If Statment with Odd and even"
   ]
  },
  {
   "cell_type": "code",
   "execution_count": 15,
   "metadata": {},
   "outputs": [
    {
     "name": "stdout",
     "output_type": "stream",
     "text": [
      "your num is odd !\n"
     ]
    }
   ],
   "source": [
    "UserNum = int(input(\"Please enter your num: \"))\n",
    "\n",
    "if UserNum % 2==1:\n",
    "    print(\"your num is odd !\")\n",
    "# you have to use == to get right answer\n",
    "if UserNum %2 == 0:\n",
    "    print(\"Your num is even \")\n"
   ]
  },
  {
   "cell_type": "code",
   "execution_count": 17,
   "metadata": {},
   "outputs": [
    {
     "name": "stdout",
     "output_type": "stream",
     "text": [
      "your num is odd !\n"
     ]
    }
   ],
   "source": [
    "UserNum = int(input(\"Please enter your num: \"))\n",
    "\n",
    "if UserNum % 2==1: # % means mod\n",
    "    print(\"your num is odd !\")\n",
    "# you have to use == as compariosn operqator to get right answer\n",
    "else:\n",
    "    print(\"your num is even !\")\n"
   ]
  },
  {
   "cell_type": "markdown",
   "metadata": {},
   "source": [
    "# Nested if structure"
   ]
  },
  {
   "cell_type": "markdown",
   "metadata": {},
   "source": [
    "run first if, if passed it will run into the second if before goes else which is part of the first if Block\n",
    "\n",
    "if condition:\n",
    "    if another condition:\n",
    "    do this\n",
    "    else:\n",
    "    do this\n",
    "else:\n",
    "    do this"
   ]
  },
  {
   "cell_type": "code",
   "execution_count": null,
   "metadata": {},
   "outputs": [],
   "source": [
    "print(\"Welcome to the rollercoaster !\")\n",
    "height= int(input(\"What is your age: \"))\n",
    "\n",
    "if height>=120:\n",
    "    print(\"You can ride the rollercoaster !\")\n",
    "\n",
    "    age = int(input(\"Please enter your age: \"))\n",
    "\n",
    "    if age<=18:\n",
    "        print(\"Please pay $7\")\n",
    "    else: \n",
    "        print(\"Please pay $12\")\n",
    "else:\n",
    "    print(\"Sorry, you have to grow taller\")"
   ]
  },
  {
   "cell_type": "markdown",
   "metadata": {},
   "source": [
    "# If and Elif Block"
   ]
  },
  {
   "cell_type": "code",
   "execution_count": 25,
   "metadata": {},
   "outputs": [
    {
     "name": "stdout",
     "output_type": "stream",
     "text": [
      "Welcome to BMI calculator !\n",
      "Your BMI is 99 you have different BMI !\n"
     ]
    }
   ],
   "source": [
    "print(\"Welcome to BMI calculator !\")\n",
    "\n",
    "height= float(input(\"What is your height: \"))\n",
    "weight= float(input(\"What is your weight: \"))\n",
    "\n",
    "BMI = round(weight/height*height)\n",
    "\n",
    "if BMI<18.5:\n",
    "    print( \"Your BMI is \" + str(BMI) + \" you are underwight !\")\n",
    "\n",
    "elif BMI<25:\n",
    "    print(\"Your BMI is \" + str(BMI) + \" you have normal BMI !\")\n",
    "\n",
    "elif BMI>25<50:\n",
    "\n",
    "    print(\"Your BMI is \" + str(BMI)+ \" you have different BMI !\")\n",
    "# if all conditions of if and elif are not met, then the code will reach else of the first block.\n",
    "else:\n",
    "    print(\"You are at risk ! \")\n"
   ]
  },
  {
   "cell_type": "markdown",
   "metadata": {},
   "source": [
    "# Leap Year Excercise"
   ]
  },
  {
   "cell_type": "code",
   "execution_count": null,
   "metadata": {},
   "outputs": [],
   "source": [
    "Year = int(input(\"Please enter the year: \"))\n",
    "\n",
    "if Year % 4 ==0:\n",
    "# IF DEIVISBLE IF 4, THEN CHECK NEXT IF CONDITION\n",
    "  if Year %100 ==0:\n",
    "  # IF IF DEIVISBLE IF 100=0, THEN CHECK NEXT IF CONDITION\n",
    "    if Year% 400 ==0:\n",
    "      print(\"Leap Year\")\n",
    "    else:\n",
    "      # SECOND PART OF THIRD IF \n",
    "      print(\"Not leap year\")\n",
    "  else:\n",
    "    # SECOND PART OF SECOND IF \n",
    "    print(\"leap year\")\n",
    "else:\n",
    "  # SECOND PART OF FIRST IF\n",
    "  print(\"Not leap year\")"
   ]
  },
  {
   "cell_type": "code",
   "execution_count": 35,
   "metadata": {},
   "outputs": [
    {
     "name": "stdout",
     "output_type": "stream",
     "text": [
      "Welcome to the rollercoaster !\n",
      "You can ride the rollercoaster !\n",
      "Adults tickets are $12.\n",
      "your final bill is 12\n"
     ]
    }
   ],
   "source": [
    "print(\"Welcome to the rollercoaster !\")\n",
    "height= int(input(\"What is your height in cm: \"))\n",
    "\n",
    "if height>=120:\n",
    "    print(\"You can ride the rollercoaster !\")\n",
    "\n",
    "    age = int(input(\"Please enter your age: \"))\n",
    "\n",
    "    if age<12:\n",
    "        bill=5\n",
    "        print(\"Child tickets are $5\")\n",
    "       \n",
    "    elif age <=18:\n",
    "        bill = 7\n",
    "        print(\"Youth tickets are $7 \")\n",
    "    else:\n",
    "        bill= 12\n",
    "        print(\"Adults tickets are $12.\")\n",
    "    wantsPhoto = input(\"Do you want your photo taken? Y or N.\")\n",
    "    #if wantsPhoto ==\"y\":\n",
    "    #    if wantsPhoto ==\"no\":\n",
    "            #wantsPhoto.capitalize()\n",
    "\n",
    "    if wantsPhoto ==\"Y\":\n",
    "      # add three dollars\n",
    "      bill += 3\n",
    "    print(f\"your final bill is {bill}\")\n",
    "else:\n",
    "    print(\"Sorry, you have yp grow taller before you can ride \")"
   ]
  },
  {
   "cell_type": "markdown",
   "metadata": {},
   "source": [
    "# Pizza Shop with if"
   ]
  },
  {
   "cell_type": "markdown",
   "metadata": {},
   "source": [
    "# Instruction\n",
    "Make sure that size of pizza has all if,elif and else indented under IF\n",
    "Make sure that add pepproni has all if,elif and else indented under IF\n",
    "Make sure that add cheese has all if,elif and else indented under IF\n",
    "keep bill under each if,elif and else indented under IF"
   ]
  },
  {
   "cell_type": "code",
   "execution_count": null,
   "metadata": {},
   "outputs": [],
   "source": [
    "size= input(\"Please select your pizza size:\")\n",
    "bill =0\n",
    "\n",
    "if size.upper()== \"S\":\n",
    "  bill +=15\n",
    "elif size.upper()==\"M\":\n",
    "  bill+=20\n",
    "elif size.upper()==\"L\":\n",
    "  bill +=25\n",
    "\n",
    "Add=input(\"Add pepperoni, Y Or N \")\n",
    "\n",
    "if Add.upper()==\"Y\":\n",
    "  if size.upper()==\"S\":\n",
    "    bill+=2\n",
    "  else:\n",
    "    bill+=5\n",
    "cheese =input(\"Add Cheese: Y or N\")\n",
    "if cheese.upper()==\"Y\":\n",
    "  bill +=1\n",
    "\n",
    "# use f\" {}\" to keep text and variable value in one sentence\n",
    "print(f\"your ginal bill is ${bill}\")\n"
   ]
  },
  {
   "cell_type": "markdown",
   "metadata": {},
   "source": [
    "# use If combined with And or Or !"
   ]
  },
  {
   "cell_type": "code",
   "execution_count": null,
   "metadata": {},
   "outputs": [],
   "source": [
    "print(\"Welcome to the rollercoaster !\")\n",
    "height= int(input(\"What is your height in cm: \"))\n",
    "\n",
    "if height>=120:\n",
    "    print(\"You can ride the rollercoaster !\")\n",
    "\n",
    "    age = int(input(\"Please enter your age: \"))\n",
    "\n",
    "    if age<12:\n",
    "        bill=5\n",
    "        print(\"Child tickets are $5\")\n",
    "       \n",
    "    elif age <=18:\n",
    "        bill = 7\n",
    "        print(\"Youth tickets are $7 \")\n",
    "    elif age>= 45 and age <=50:\n",
    "      print(\"Every thing will be ok, have free ride on us\")\n",
    "    else:\n",
    "        bill= 12\n",
    "        print(\"Adults tickets are $12.\")\n",
    "    wantsPhoto = input(\"Do you want your photo taken? Y or N.\")\n",
    "    #if wantsPhoto ==\"y\":\n",
    "    #    if wantsPhoto ==\"no\":\n",
    "            #wantsPhoto.capitalize()\n",
    "\n",
    "    if wantsPhoto ==\"Y\":\n",
    "      # add three dollars\n",
    "      bill += 3\n",
    "    print(f\"your final bill is {bill}\")\n",
    "else:\n",
    "    print(\"Sorry, you have yp grow taller before you can ride \")"
   ]
  },
  {
   "cell_type": "markdown",
   "metadata": {},
   "source": [
    "# Love Story with If,Count,To upper and others"
   ]
  },
  {
   "cell_type": "code",
   "execution_count": null,
   "metadata": {},
   "outputs": [],
   "source": [
    "man = input(\"Please enter your name: \")\n",
    "woman = input(\"Please enter your name: \")\n",
    "Combined = man+woman\n",
    "lowercase = Combined.lower()\n",
    "t=lowercase.count(\"t\")\n",
    "r=lowercase.count(\"r\")\n",
    "u=lowercase.count(\"u\")\n",
    "e=lowercase.count(\"e\")\n",
    "\n",
    "true = t+r+u+e\n",
    "\n",
    "l=lowercase.count(\"t\")\n",
    "o=lowercase.count(\"r\")\n",
    "v=lowercase.count(\"u\")\n",
    "e=lowercase.count(\"e\")\n",
    "\n",
    "love = l+o+v+e\n",
    "\n",
    "love_score = int(str(true)+str(love))\n",
    "\n",
    "print(love_score)\n",
    "\n",
    "if (love_score <10) or (love_score>90):\n",
    "  print(f\"Your love score is {love_score}, you are go together like cock an mentos \")\n",
    "\n",
    "elif (love_score >=40) and (love_score<=50):\n",
    "  print(f\"Your love score is {love_score}, you are alright together \")\n",
    "else:\n",
    "  print(f\"Your love score is {love_score}\")\n"
   ]
  },
  {
   "cell_type": "markdown",
   "metadata": {},
   "source": []
  },
  {
   "cell_type": "markdown",
   "metadata": {},
   "source": [
    "# Randomization "
   ]
  },
  {
   "cell_type": "code",
   "execution_count": null,
   "metadata": {},
   "outputs": [],
   "source": [
    "import random\n",
    "\n",
    "# Create random ontegers numbers using .random(a,b)\n",
    "random_integer = random.randint(1, 10)\n",
    "print(random_integer)\n",
    "\n",
    "# Create random float numbers using .random()\n",
    "random_float = random.random()\n",
    "print(random_float)\n",
    "\n",
    "print(random_float * 5)\n",
    "\n",
    "# Head or tail game\n",
    "\n",
    "FlipSide= random.randint(0,1)\n",
    "\n",
    "if FlipSide ==1:\n",
    "  print(\"Head\")\n",
    "else:\n",
    "  print(\"Tail\")\n"
   ]
  },
  {
   "cell_type": "markdown",
   "metadata": {},
   "source": [
    "#list Day4 \n"
   ]
  },
  {
   "cell_type": "code",
   "execution_count": 20,
   "metadata": {},
   "outputs": [
    {
     "name": "stdout",
     "output_type": "stream",
     "text": [
      "None\n",
      "None\n",
      "['Delaware', 'Pennsylvania', 'New Jersey', 'Georgia', 'Connecticut', 'Massachusetts', 'Maryland', 'South Carolina', 'New Hampshire', 'Virginia', 'New York', 'North Carolina', 'Rhode Island', 'Vermont', 'Kentucky', 'Tennessee', 'Ohio', 'Louisiana', 'Indiana', 'Mississippi', 'Illinois', 'Alabama', 'Maine', 'Missouri', 'Arkansas', 'Michigan', 'Florida', 'Texas', 'Iowa', 'Wisconsin', 'California', 'Minnesota', 'Oregon', 'Kansas', 'West Virginia', 'Nevada', 'Nebraska', 'Colorado', 'North Dakota', 'South Dakota', 'Montana', 'Washington', 'Idaho', 'Wyoming', 'Utah', 'Oklahoma', 'New Mexico', 'Arizona', 'Alaska', 'Hawaii', 'Cairo', 'Naser', 'Moan', 'Malak', 'Now']\n",
      "None\n",
      "Alabama\n",
      "None\n",
      "19\n"
     ]
    }
   ],
   "source": [
    "states_of_america = [\"Delaware\", \"Pennsylvania\", \"New Jersey\", \"Georgia\", \"Connecticut\", \"Massachusetts\", \"Maryland\", \"South Carolina\", \"New Hampshire\", \"Virginia\", \"New York\", \"North Carolina\", \"Rhode Island\", \"Vermont\", \"Kentucky\", \"Tennessee\", \"Ohio\", \"Louisiana\", \"Indiana\", \"Mississippi\", \"Illinois\", \"Alabama\", \"Maine\", \"Missouri\", \"Arkansas\", \"Michigan\", \"Florida\", \"Texas\", \"Iowa\", \"Wisconsin\", \"California\", \"Minnesota\", \"Oregon\", \"Kansas\", \"West Virginia\", \"Nevada\", \"Nebraska\", \"Colorado\", \"North Dakota\", \"South Dakota\", \"Montana\", \"Washington\", \"Idaho\", \"Wyoming\", \"Utah\", \"Oklahoma\", \"New Mexico\", \"Arizona\", \"Alaska\", \"Hawaii\"]\n",
    "\n",
    "print(states_of_america.append(\"Cairo\"))\n",
    "newList=[\"Naser\",\"Moan\",\"Malak\",\"Now\"]\n",
    "print(states_of_america.extend(newList))\n",
    "#print(states_of_america.index()\n",
    "print(states_of_america.copy())\n",
    "print(states_of_america.sort(key=None,reverse=True))\n",
    "print(states_of_america.pop())\n",
    "print(states_of_america.reverse())\n",
    "print(states_of_america.index(\"Malak\"))"
   ]
  }
 ],
 "metadata": {
  "interpreter": {
   "hash": "916dbcbb3f70747c44a77c7bcd40155683ae19c65e1c03b4aa3499c5328201f1"
  },
  "kernelspec": {
   "display_name": "Python 3.8.10 64-bit",
   "language": "python",
   "name": "python3"
  },
  "language_info": {
   "codemirror_mode": {
    "name": "ipython",
    "version": 3
   },
   "file_extension": ".py",
   "mimetype": "text/x-python",
   "name": "python",
   "nbconvert_exporter": "python",
   "pygments_lexer": "ipython3",
   "version": "3.8.10"
  },
  "orig_nbformat": 4
 },
 "nbformat": 4,
 "nbformat_minor": 2
}
