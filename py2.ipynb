{
 "cells": [
  {
   "cell_type": "code",
   "execution_count": 2,
   "metadata": {},
   "outputs": [
    {
     "name": "stdout",
     "output_type": "stream",
     "text": [
      "Naser\n"
     ]
    }
   ],
   "source": [
    "\n",
    "print(\"Naser\")"
   ]
  },
  {
   "cell_type": "markdown",
   "metadata": {},
   "source": [
    "# User Input\n"
   ]
  },
  {
   "cell_type": "code",
   "execution_count": 8,
   "metadata": {},
   "outputs": [
    {
     "name": "stdout",
     "output_type": "stream",
     "text": [
      "Your name is Nasr your last name is Khalil your age is 23 your height is 12.4\n"
     ]
    }
   ],
   "source": [
    "\n",
    "Fname=input(\"Please enter your Name: \")\n",
    "Lname = input(\"Please enter your last name: \")\n",
    "age = int(input(\"Please enter your  age \"))\n",
    "Height = float(input(\"Please enter your  height \"))\n",
    "\n",
    "print( \"Your name is \" + Fname + \" your last name is \" + Lname + \" your age is \" + str(age)+ \" your height is \" + str(Height))"
   ]
  },
  {
   "cell_type": "code",
   "execution_count": null,
   "metadata": {},
   "outputs": [],
   "source": [
    "import math\n",
    "\n",
    "pi =3.14\n",
    "print(round(pi))\n",
    "print(math.ceil(pi))\n",
    "print(math.floor(pi))\n",
    "print(math.isfinite(pi))\n",
    "print(abs(pi))\n",
    "print(pow(pi,2))\n",
    "\n",
    "x=12\n",
    "y=14\n",
    "z=45\n",
    "print(max(x,y,z))\n",
    "print(min(x,y,z))\n"
   ]
  },
  {
   "cell_type": "code",
   "execution_count": 21,
   "metadata": {},
   "outputs": [
    {
     "name": "stdout",
     "output_type": "stream",
     "text": [
      "Na\n",
      "y\n"
     ]
    }
   ],
   "source": [
    "# Slicing = create a subsrting by extracting elements from another string indexing [] or slice()\n",
    "#[start: stop: step]\n",
    "\n",
    "name =\"Nasr Elznaty\"\n",
    "Fname = name[0:2:1]\n",
    "Lname =name[-1::]\n",
    "print(Fname)\n",
    "print(Lname)"
   ]
  },
  {
   "cell_type": "markdown",
   "metadata": {},
   "source": [
    "# Use Slice Function\n"
   ]
  },
  {
   "cell_type": "code",
   "execution_count": null,
   "metadata": {},
   "outputs": [],
   "source": []
  },
  {
   "cell_type": "code",
   "execution_count": null,
   "metadata": {},
   "outputs": [],
   "source": []
  }
 ],
 "metadata": {
  "interpreter": {
   "hash": "916dbcbb3f70747c44a77c7bcd40155683ae19c65e1c03b4aa3499c5328201f1"
  },
  "kernelspec": {
   "display_name": "Python 3.8.10 64-bit",
   "language": "python",
   "name": "python3"
  },
  "language_info": {
   "codemirror_mode": {
    "name": "ipython",
    "version": 3
   },
   "file_extension": ".py",
   "mimetype": "text/x-python",
   "name": "python",
   "nbconvert_exporter": "python",
   "pygments_lexer": "ipython3",
   "version": "3.8.10"
  },
  "orig_nbformat": 4
 },
 "nbformat": 4,
 "nbformat_minor": 2
}
